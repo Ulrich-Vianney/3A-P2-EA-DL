{
 "cells": [
  {
   "cell_type": "code",
   "execution_count": 29,
   "metadata": {},
   "outputs": [],
   "source": [
    "import os\n",
    "import re\n",
    "import os\n",
    "import pandas as pd\n",
    "from astropy.time import Time"
   ]
  },
  {
   "cell_type": "code",
   "execution_count": 30,
   "metadata": {},
   "outputs": [],
   "source": [
    "# Récupère le chemin du script en cours\n",
    "base_dir = os.getcwd()\n",
    "\n",
    "# Construire les chemins relatifs\n",
    "input_dir = os.path.join(base_dir, \"txt\")\n",
    "output_dir = os.path.join(base_dir, \"csv\")"
   ]
  },
  {
   "cell_type": "code",
   "execution_count": 31,
   "metadata": {},
   "outputs": [],
   "source": [
    "# Fonction pour traiter un fichier individuel\n",
    "def process_horizons_file(filepath):\n",
    "    data = []\n",
    "    planet_name = None\n",
    "\n",
    "    with open(filepath, 'r', encoding='utf-8') as file:\n",
    "        lines = [line.strip() for line in file.readlines()]\n",
    "\n",
    "    # Trouver le nom de la planète\n",
    "    for line in lines:\n",
    "        if \"Target body name:\" in line:\n",
    "            planet_name = line.split(\":\")[1].split('(')[0].strip()\n",
    "            break\n",
    "\n",
    "    if not planet_name:\n",
    "        print(f\"⚠️ Impossible de détecter le nom de la planète pour {filepath}\")\n",
    "        return\n",
    "\n",
    "    # Repérer la section $$SOE à $$EOE\n",
    "    try:\n",
    "        start_index = lines.index(\"$$SOE\") + 1\n",
    "        end_index = lines.index(\"$$EOE\")\n",
    "    except ValueError:\n",
    "        print(f\"❌ Balises $$SOE ou $$EOE manquantes dans {filepath}\")\n",
    "        return\n",
    "\n",
    "    # Parcours des lignes contenant les données\n",
    "    i = start_index\n",
    "    while i < end_index:\n",
    "        # Ligne 1 = Julian Date + Date calendrier\n",
    "        jd_line = lines[i]\n",
    "        jd = float(jd_line.split()[0])\n",
    "        time = Time(jd, format='jd', scale='tdb')\n",
    "        date = time.iso  # 'YYYY-MM-DD HH:MM:SS'\n",
    "        i += 1\n",
    "\n",
    "        # Ligne 2 = X, Y, Z\n",
    "        xyz_line = lines[i]\n",
    "        xyz_parts = xyz_line.replace('=', '').split()\n",
    "        x = float(xyz_parts[1])\n",
    "        y = float(xyz_parts[3])\n",
    "        z = float(xyz_parts[5])\n",
    "        i += 1\n",
    "\n",
    "        vxyz_line = lines[i]\n",
    "\n",
    "        # Regex qui capture les 3 valeurs de VX, VY, VZ peu importe les espaces\n",
    "        pattern = r'VX=\\s*([-+]?\\d*\\.\\d+E[+-]?\\d+)\\s*VY=\\s*([-+]?\\d*\\.\\d+E[+-]?\\d+)\\s*VZ=\\s*([-+]?\\d*\\.\\d+E[+-]?\\d+)'\n",
    "        match = re.search(pattern, vxyz_line)\n",
    "        if not match:\n",
    "            raise ValueError(f\"Format inattendu sur la ligne: {vxyz_line}\")\n",
    "        vx = float(match.group(1))\n",
    "        vy = float(match.group(2))\n",
    "        vz = float(match.group(3))\n",
    "        i += 1\n",
    "\n",
    "        # Ligne 4 = LT, RG, RR (on ignore)\n",
    "        i += 1\n",
    "\n",
    "        # Enregistrer dans la liste\n",
    "        data.append([date, x, y, z, vx, vy, vz])\n",
    "\n",
    "    # DataFrame final\n",
    "    df = pd.DataFrame(data, columns=[\n",
    "        \"Date (TDB)\", \"X (km)\", \"Y (km)\", \"Z (km)\",\n",
    "        \"VX (km/s)\", \"VY (km/s)\", \"VZ (km/s)\"\n",
    "    ])\n",
    "\n",
    "    # Enregistrement\n",
    "    os.makedirs(output_dir, exist_ok=True)\n",
    "    csv_filename = os.path.join(output_dir, f\"{planet_name}.csv\")\n",
    "    df.to_csv(csv_filename, index=False)\n",
    "\n",
    "    print(f\"✅ Données de {planet_name} enregistrées dans {csv_filename}\")"
   ]
  },
  {
   "cell_type": "code",
   "execution_count": 32,
   "metadata": {},
   "outputs": [
    {
     "name": "stdout",
     "output_type": "stream",
     "text": [
      "✅ Données de Sun enregistrées dans /home/ulrich-vianney/Codes/EA-3A-P2/3A-P2-EA-DL/csv/Sun.csv\n",
      "✅ Données de Neptune enregistrées dans /home/ulrich-vianney/Codes/EA-3A-P2/3A-P2-EA-DL/csv/Neptune.csv\n",
      "✅ Données de Jupiter enregistrées dans /home/ulrich-vianney/Codes/EA-3A-P2/3A-P2-EA-DL/csv/Jupiter.csv\n",
      "✅ Données de Mercury enregistrées dans /home/ulrich-vianney/Codes/EA-3A-P2/3A-P2-EA-DL/csv/Mercury.csv\n",
      "✅ Données de Venus enregistrées dans /home/ulrich-vianney/Codes/EA-3A-P2/3A-P2-EA-DL/csv/Venus.csv\n",
      "✅ Données de Uranus enregistrées dans /home/ulrich-vianney/Codes/EA-3A-P2/3A-P2-EA-DL/csv/Uranus.csv\n",
      "✅ Données de Mars enregistrées dans /home/ulrich-vianney/Codes/EA-3A-P2/3A-P2-EA-DL/csv/Mars.csv\n",
      "✅ Données de Earth enregistrées dans /home/ulrich-vianney/Codes/EA-3A-P2/3A-P2-EA-DL/csv/Earth.csv\n",
      "✅ Données de Saturn enregistrées dans /home/ulrich-vianney/Codes/EA-3A-P2/3A-P2-EA-DL/csv/Saturn.csv\n",
      "🚀 Traitement terminé pour tous les fichiers.\n"
     ]
    }
   ],
   "source": [
    "# Vérification et création du dossier de sortie si inexistant\n",
    "os.makedirs(output_dir, exist_ok=True)\n",
    "\n",
    "# Parcourir tous les fichiers .txt dans le dossier input_dir\n",
    "for file in os.listdir(input_dir):\n",
    "    if file.endswith(\".txt\"):\n",
    "        filepath = os.path.join(input_dir, file)\n",
    "        process_horizons_file(filepath)\n",
    "\n",
    "print(\"🚀 Traitement terminé pour tous les fichiers.\")"
   ]
  }
 ],
 "metadata": {
  "kernelspec": {
   "display_name": "base",
   "language": "python",
   "name": "python3"
  },
  "language_info": {
   "codemirror_mode": {
    "name": "ipython",
    "version": 3
   },
   "file_extension": ".py",
   "mimetype": "text/x-python",
   "name": "python",
   "nbconvert_exporter": "python",
   "pygments_lexer": "ipython3",
   "version": "3.11.7"
  }
 },
 "nbformat": 4,
 "nbformat_minor": 2
}
